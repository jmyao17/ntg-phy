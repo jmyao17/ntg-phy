{
 "cells": [
  {
   "cell_type": "markdown",
   "metadata": {},
   "source": [
    " ** <font size=\"10\">  An Introduction to Nuclear Physics  </font>  **\n",
    " \n",
    " ** <font size=\"6\"> Chapter I: nuclear massess and binding energies  </font>**\n",
    "\n",
    "by *Dr. Jiangming Yao*, \n",
    "\n",
    "[Nuclear theory and nuclear astrophysics group](https://jmyao17.github.io/ntg-phy/index.html),\n",
    "\n",
    "School of Physics and Astronomy, Sun Yat-sen University"
   ]
  },
  {
   "cell_type": "markdown",
   "metadata": {},
   "source": [
    "# Basic formulas"
   ]
  },
  {
   "cell_type": "markdown",
   "metadata": {},
   "source": [
    "- Nuclear (atomic) mass:\n",
    "\n",
    "$$\n",
    "M(Z,A) = ZM_H + (A-Z)M_n,\\quad M_H\\approx M_p + m_e\n",
    "$$\n",
    "\n",
    "- Nuclear (atomic) mass excess:\n",
    "\n",
    "$$\n",
    "\\Delta M(Z,A) = M(Z,A) - A m_u,\n",
    "$$\n",
    "where $m_u$ is defined based on the mass of $^{12}$C,\n",
    "\n",
    "$$\n",
    "m_u = M(Z=6, A=12)/12 = 931.493856 {\\rm MeV}.\n",
    "$$\n",
    "\n",
    "- Nuclear binding energy:\n",
    "\n",
    "$$\n",
    "B(Z, A) = Z M_H +  (A-Z)M_n - M(Z, A)\n",
    "$$"
   ]
  },
  {
   "cell_type": "markdown",
   "metadata": {},
   "source": [
    "# Numerical calculation for $^{16}$O"
   ]
  },
  {
   "cell_type": "code",
   "execution_count": 13,
   "metadata": {},
   "outputs": [],
   "source": [
    "mass_excess_O16=-4.737 # MeV\n",
    "\n",
    "BE_12C=7.680144*12 # MeV\n",
    "\n",
    "M_H = 938.272+0.511 # MeV\n",
    "M_p = 938.272 # MeV\n",
    "M_n = 939.565 # MeV"
   ]
  },
  {
   "cell_type": "code",
   "execution_count": 19,
   "metadata": {},
   "outputs": [
    {
     "name": "stdout",
     "output_type": "stream",
     "text": [
      "Atomic Mass for 12C: 11177.926272 [MeV]\n",
      "1 u : 931.493856 [MeV]\n",
      "Mass excess for 12C : 0.0 [MeV]\n"
     ]
    }
   ],
   "source": [
    "# atomic mass for 12C\n",
    "Mass_12C = 6*M_H+6*M_n - BE_12C\n",
    "\n",
    "# 1 u\n",
    "Unit=Mass_12C/12 \n",
    "\n",
    "print(\"Atomic Mass for 12C: {} [MeV]\".format(Mass_12C))\n",
    "print(\"1 u : {} [MeV]\".format(Unit))\n",
    "\n",
    "print(\"Mass excess for 12C : {} [MeV]\".format(Mass_12C-12*Unit))"
   ]
  },
  {
   "cell_type": "code",
   "execution_count": 20,
   "metadata": {},
   "outputs": [
    {
     "name": "stdout",
     "output_type": "stream",
     "text": [
      "Atomic Mass for 16O: 14899.164696000002 [MeV]\n"
     ]
    }
   ],
   "source": [
    "# atomic mass for 16O\n",
    "\n",
    "Mass_16O = Unit * 16 + mass_excess_O16\n",
    "\n",
    "print(\"Atomic Mass for 16O: {} [MeV]\".format(Mass_16O))"
   ]
  },
  {
   "cell_type": "code",
   "execution_count": 18,
   "metadata": {},
   "outputs": [
    {
     "name": "stdout",
     "output_type": "stream",
     "text": [
      "Binding Energy for 16O: 127.61930399999801 [MeV]\n",
      "E/A for 16O: 7.976206499999876 [MeV]\n"
     ]
    }
   ],
   "source": [
    "# binding energy for 16O\n",
    "\n",
    "BE_16O = 8*M_H+8*M_n - Mass_16O\n",
    "\n",
    "print(\"Binding Energy for 16O: {} [MeV]\".format(BE_16O))\n",
    "print(\"E/A for 16O: {} [MeV]\".format(BE_16O/16))"
   ]
  },
  {
   "cell_type": "markdown",
   "metadata": {},
   "source": [
    "# Binding energies"
   ]
  },
  {
   "cell_type": "code",
   "execution_count": 40,
   "metadata": {},
   "outputs": [],
   "source": [
    "import pandas as pd\n",
    "\n",
    "import matplotlib.pyplot as plt"
   ]
  },
  {
   "cell_type": "code",
   "execution_count": 35,
   "metadata": {},
   "outputs": [],
   "source": [
    "df=pd.read_csv('./dataset/AME2003.DAT',sep='\\s+',skiprows=None)\n",
    "df.columns=['A','Z','Mass_excess']"
   ]
  },
  {
   "cell_type": "code",
   "execution_count": 36,
   "metadata": {},
   "outputs": [
    {
     "data": {
      "text/html": [
       "<div>\n",
       "<style scoped>\n",
       "    .dataframe tbody tr th:only-of-type {\n",
       "        vertical-align: middle;\n",
       "    }\n",
       "\n",
       "    .dataframe tbody tr th {\n",
       "        vertical-align: top;\n",
       "    }\n",
       "\n",
       "    .dataframe thead th {\n",
       "        text-align: right;\n",
       "    }\n",
       "</style>\n",
       "<table border=\"1\" class=\"dataframe\">\n",
       "  <thead>\n",
       "    <tr style=\"text-align: right;\">\n",
       "      <th></th>\n",
       "      <th>A</th>\n",
       "      <th>Z</th>\n",
       "      <th>Mass_excess</th>\n",
       "    </tr>\n",
       "  </thead>\n",
       "  <tbody>\n",
       "    <tr>\n",
       "      <th>0</th>\n",
       "      <td>9</td>\n",
       "      <td>6</td>\n",
       "      <td>28.91050</td>\n",
       "    </tr>\n",
       "    <tr>\n",
       "      <th>1</th>\n",
       "      <td>10</td>\n",
       "      <td>6</td>\n",
       "      <td>15.69870</td>\n",
       "    </tr>\n",
       "    <tr>\n",
       "      <th>2</th>\n",
       "      <td>11</td>\n",
       "      <td>6</td>\n",
       "      <td>10.65030</td>\n",
       "    </tr>\n",
       "    <tr>\n",
       "      <th>3</th>\n",
       "      <td>12</td>\n",
       "      <td>6</td>\n",
       "      <td>0.00000</td>\n",
       "    </tr>\n",
       "    <tr>\n",
       "      <th>4</th>\n",
       "      <td>13</td>\n",
       "      <td>6</td>\n",
       "      <td>3.12501</td>\n",
       "    </tr>\n",
       "  </tbody>\n",
       "</table>\n",
       "</div>"
      ],
      "text/plain": [
       "    A  Z  Mass_excess\n",
       "0   9  6     28.91050\n",
       "1  10  6     15.69870\n",
       "2  11  6     10.65030\n",
       "3  12  6      0.00000\n",
       "4  13  6      3.12501"
      ]
     },
     "execution_count": 36,
     "metadata": {},
     "output_type": "execute_result"
    }
   ],
   "source": [
    "df.head()"
   ]
  },
  {
   "cell_type": "code",
   "execution_count": 37,
   "metadata": {},
   "outputs": [],
   "source": [
    "df['N']=df['A']-df['Z']"
   ]
  },
  {
   "cell_type": "code",
   "execution_count": 38,
   "metadata": {},
   "outputs": [],
   "source": [
    "df['BE']=df['Z']*M_H+df['N']*M_n - (Unit * df['A']  + df['Mass_excess'])"
   ]
  },
  {
   "cell_type": "code",
   "execution_count": 39,
   "metadata": {},
   "outputs": [
    {
     "data": {
      "text/html": [
       "<div>\n",
       "<style scoped>\n",
       "    .dataframe tbody tr th:only-of-type {\n",
       "        vertical-align: middle;\n",
       "    }\n",
       "\n",
       "    .dataframe tbody tr th {\n",
       "        vertical-align: top;\n",
       "    }\n",
       "\n",
       "    .dataframe thead th {\n",
       "        text-align: right;\n",
       "    }\n",
       "</style>\n",
       "<table border=\"1\" class=\"dataframe\">\n",
       "  <thead>\n",
       "    <tr style=\"text-align: right;\">\n",
       "      <th></th>\n",
       "      <th>A</th>\n",
       "      <th>Z</th>\n",
       "      <th>Mass_excess</th>\n",
       "      <th>N</th>\n",
       "      <th>BE</th>\n",
       "    </tr>\n",
       "  </thead>\n",
       "  <tbody>\n",
       "    <tr>\n",
       "      <th>0</th>\n",
       "      <td>9</td>\n",
       "      <td>6</td>\n",
       "      <td>28.91050</td>\n",
       "      <td>3</td>\n",
       "      <td>39.037796</td>\n",
       "    </tr>\n",
       "    <tr>\n",
       "      <th>1</th>\n",
       "      <td>10</td>\n",
       "      <td>6</td>\n",
       "      <td>15.69870</td>\n",
       "      <td>4</td>\n",
       "      <td>60.320740</td>\n",
       "    </tr>\n",
       "    <tr>\n",
       "      <th>2</th>\n",
       "      <td>11</td>\n",
       "      <td>6</td>\n",
       "      <td>10.65030</td>\n",
       "      <td>5</td>\n",
       "      <td>73.440284</td>\n",
       "    </tr>\n",
       "    <tr>\n",
       "      <th>3</th>\n",
       "      <td>12</td>\n",
       "      <td>6</td>\n",
       "      <td>0.00000</td>\n",
       "      <td>6</td>\n",
       "      <td>92.161728</td>\n",
       "    </tr>\n",
       "    <tr>\n",
       "      <th>4</th>\n",
       "      <td>13</td>\n",
       "      <td>6</td>\n",
       "      <td>3.12501</td>\n",
       "      <td>7</td>\n",
       "      <td>97.107862</td>\n",
       "    </tr>\n",
       "    <tr>\n",
       "      <th>5</th>\n",
       "      <td>14</td>\n",
       "      <td>6</td>\n",
       "      <td>3.01989</td>\n",
       "      <td>8</td>\n",
       "      <td>105.284126</td>\n",
       "    </tr>\n",
       "    <tr>\n",
       "      <th>6</th>\n",
       "      <td>15</td>\n",
       "      <td>6</td>\n",
       "      <td>9.87310</td>\n",
       "      <td>9</td>\n",
       "      <td>106.502060</td>\n",
       "    </tr>\n",
       "    <tr>\n",
       "      <th>7</th>\n",
       "      <td>16</td>\n",
       "      <td>6</td>\n",
       "      <td>13.69400</td>\n",
       "      <td>10</td>\n",
       "      <td>110.752304</td>\n",
       "    </tr>\n",
       "    <tr>\n",
       "      <th>8</th>\n",
       "      <td>17</td>\n",
       "      <td>6</td>\n",
       "      <td>21.03900</td>\n",
       "      <td>11</td>\n",
       "      <td>111.478448</td>\n",
       "    </tr>\n",
       "    <tr>\n",
       "      <th>9</th>\n",
       "      <td>18</td>\n",
       "      <td>6</td>\n",
       "      <td>24.93000</td>\n",
       "      <td>12</td>\n",
       "      <td>115.658592</td>\n",
       "    </tr>\n",
       "    <tr>\n",
       "      <th>...</th>\n",
       "      <td>...</td>\n",
       "      <td>...</td>\n",
       "      <td>...</td>\n",
       "      <td>...</td>\n",
       "      <td>...</td>\n",
       "    </tr>\n",
       "    <tr>\n",
       "      <th>20</th>\n",
       "      <td>18</td>\n",
       "      <td>7</td>\n",
       "      <td>13.11400</td>\n",
       "      <td>11</td>\n",
       "      <td>126.692592</td>\n",
       "    </tr>\n",
       "    <tr>\n",
       "      <th>21</th>\n",
       "      <td>19</td>\n",
       "      <td>7</td>\n",
       "      <td>15.86200</td>\n",
       "      <td>12</td>\n",
       "      <td>132.015736</td>\n",
       "    </tr>\n",
       "    <tr>\n",
       "      <th>22</th>\n",
       "      <td>20</td>\n",
       "      <td>7</td>\n",
       "      <td>21.77000</td>\n",
       "      <td>13</td>\n",
       "      <td>134.178880</td>\n",
       "    </tr>\n",
       "    <tr>\n",
       "      <th>23</th>\n",
       "      <td>21</td>\n",
       "      <td>7</td>\n",
       "      <td>25.25000</td>\n",
       "      <td>14</td>\n",
       "      <td>138.770024</td>\n",
       "    </tr>\n",
       "    <tr>\n",
       "      <th>24</th>\n",
       "      <td>22</td>\n",
       "      <td>7</td>\n",
       "      <td>32.04000</td>\n",
       "      <td>15</td>\n",
       "      <td>140.051168</td>\n",
       "    </tr>\n",
       "    <tr>\n",
       "      <th>25</th>\n",
       "      <td>12</td>\n",
       "      <td>8</td>\n",
       "      <td>32.04800</td>\n",
       "      <td>4</td>\n",
       "      <td>58.549728</td>\n",
       "    </tr>\n",
       "    <tr>\n",
       "      <th>26</th>\n",
       "      <td>13</td>\n",
       "      <td>8</td>\n",
       "      <td>23.11200</td>\n",
       "      <td>5</td>\n",
       "      <td>75.556872</td>\n",
       "    </tr>\n",
       "    <tr>\n",
       "      <th>27</th>\n",
       "      <td>14</td>\n",
       "      <td>8</td>\n",
       "      <td>8.00736</td>\n",
       "      <td>6</td>\n",
       "      <td>98.732656</td>\n",
       "    </tr>\n",
       "    <tr>\n",
       "      <th>28</th>\n",
       "      <td>15</td>\n",
       "      <td>8</td>\n",
       "      <td>2.85560</td>\n",
       "      <td>7</td>\n",
       "      <td>111.955560</td>\n",
       "    </tr>\n",
       "    <tr>\n",
       "      <th>29</th>\n",
       "      <td>16</td>\n",
       "      <td>8</td>\n",
       "      <td>-4.73700</td>\n",
       "      <td>8</td>\n",
       "      <td>127.619304</td>\n",
       "    </tr>\n",
       "  </tbody>\n",
       "</table>\n",
       "<p>30 rows × 5 columns</p>\n",
       "</div>"
      ],
      "text/plain": [
       "     A  Z  Mass_excess   N          BE\n",
       "0    9  6     28.91050   3   39.037796\n",
       "1   10  6     15.69870   4   60.320740\n",
       "2   11  6     10.65030   5   73.440284\n",
       "3   12  6      0.00000   6   92.161728\n",
       "4   13  6      3.12501   7   97.107862\n",
       "5   14  6      3.01989   8  105.284126\n",
       "6   15  6      9.87310   9  106.502060\n",
       "7   16  6     13.69400  10  110.752304\n",
       "8   17  6     21.03900  11  111.478448\n",
       "9   18  6     24.93000  12  115.658592\n",
       "..  .. ..          ...  ..         ...\n",
       "20  18  7     13.11400  11  126.692592\n",
       "21  19  7     15.86200  12  132.015736\n",
       "22  20  7     21.77000  13  134.178880\n",
       "23  21  7     25.25000  14  138.770024\n",
       "24  22  7     32.04000  15  140.051168\n",
       "25  12  8     32.04800   4   58.549728\n",
       "26  13  8     23.11200   5   75.556872\n",
       "27  14  8      8.00736   6   98.732656\n",
       "28  15  8      2.85560   7  111.955560\n",
       "29  16  8     -4.73700   8  127.619304\n",
       "\n",
       "[30 rows x 5 columns]"
      ]
     },
     "execution_count": 39,
     "metadata": {},
     "output_type": "execute_result"
    }
   ],
   "source": [
    "df.head(30)"
   ]
  },
  {
   "cell_type": "code",
   "execution_count": 43,
   "metadata": {},
   "outputs": [
    {
     "data": {
      "text/plain": [
       "<matplotlib.collections.PathCollection at 0x143999fd0>"
      ]
     },
     "execution_count": 43,
     "metadata": {},
     "output_type": "execute_result"
    },
    {
     "data": {
      "text/plain": [
       "Text(0.5,0,'Mass number A')"
      ]
     },
     "execution_count": 43,
     "metadata": {},
     "output_type": "execute_result"
    },
    {
     "data": {
      "text/plain": [
       "Text(0,0.5,'E/A [MeV]')"
      ]
     },
     "execution_count": 43,
     "metadata": {},
     "output_type": "execute_result"
    },
    {
     "data": {
      "text/plain": [
       "<matplotlib.legend.Legend at 0x1439a3588>"
      ]
     },
     "execution_count": 43,
     "metadata": {},
     "output_type": "execute_result"
    },
    {
     "data": {
      "image/png": "[encoded data removed]",
      "text/plain": [
       "<Figure size 432x288 with 1 Axes>"
      ]
     },
     "metadata": {},
     "output_type": "display_data"
    }
   ],
   "source": [
    "plt.scatter(df['A'],df['BE']/df['A'],c='k')\n",
    "plt.xlabel('Mass number A',fontsize=12)\n",
    "plt.ylabel('E/A [MeV]',fontsize=12)\n",
    "plt.legend(['AME2003'])"
   ]
  },
  {
   "cell_type": "markdown",
   "metadata": {},
   "source": [
    "**References**:\n",
    "\n",
    "- NNDC: https://www.nndc.bnl.gov/nudat2/chartNuc.jsp \n",
    "- AME2003: A.H.Wapstra, G.Audi, C. Thibault, [Nuclear Physics A729, 129-336 (2003)](https://www.sciencedirect.com/science/article/pii/S0375947403018086)\n",
    "\n",
    "- NUBASE2016: [Chinese Physics C Vol. 41, No. 3 (2017) 030001](http://cpc.ihep.ac.cn/article/2017/3)\n",
    "  "
   ]
  },
  {
   "cell_type": "code",
   "execution_count": null,
   "metadata": {},
   "outputs": [],
   "source": []
  }
 ],
 "metadata": {
  "kernelspec": {
   "display_name": "Python 3",
   "language": "python",
   "name": "python3"
  },
  "language_info": {
   "codemirror_mode": {
    "name": "ipython",
    "version": 3
   },
   "file_extension": ".py",
   "mimetype": "text/x-python",
   "name": "python",
   "nbconvert_exporter": "python",
   "pygments_lexer": "ipython3",
   "version": "3.6.5"
  },
  "toc": {
   "base_numbering": 1,
   "nav_menu": {},
   "number_sections": true,
   "sideBar": true,
   "skip_h1_title": false,
   "title_cell": "Table of Contents",
   "title_sidebar": "Contents",
   "toc_cell": false,
   "toc_position": {},
   "toc_section_display": true,
   "toc_window_display": false
  },
  "varInspector": {
   "cols": {
    "lenName": 16,
    "lenType": 16,
    "lenVar": 40
   },
   "kernels_config": {
    "python": {
     "delete_cmd_postfix": "",
     "delete_cmd_prefix": "del ",
     "library": "var_list.py",
     "varRefreshCmd": "print(var_dic_list())"
    },
    "r": {
     "delete_cmd_postfix": ") ",
     "delete_cmd_prefix": "rm(",
     "library": "var_list.r",
     "varRefreshCmd": "cat(var_dic_list()) "
    }
   },
   "types_to_exclude": [
    "module",
    "function",
    "builtin_function_or_method",
    "instance",
    "_Feature"
   ],
   "window_display": false
  }
 },
 "nbformat": 4,
 "nbformat_minor": 2
}
